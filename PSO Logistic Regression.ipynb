{
 "cells": [
  {
   "cell_type": "code",
   "execution_count": 1,
   "metadata": {},
   "outputs": [
    {
     "name": "stdout",
     "output_type": "stream",
     "text": [
      "SEPT4 was present already\n"
     ]
    },
    {
     "name": "stderr",
     "output_type": "stream",
     "text": [
      "C:\\Users\\SARANSH\\Anaconda3\\envs\\saransh\\lib\\site-packages\\sklearn\\model_selection\\_split.py:296: FutureWarning:\n",
      "\n",
      "Setting a random_state has no effect since shuffle is False. This will raise an error in 0.24. You should leave random_state to its default (None), or set shuffle=True.\n",
      "\n"
     ]
    },
    {
     "name": "stdout",
     "output_type": "stream",
     "text": [
      "K-FOLD # 1\n",
      "Train AUC-ROC Score:  0.9350300459526335  Val AUC-ROC score:  0.9506002824858758 \n",
      "\n",
      "validation kappa:- 0.7561177934467026\n",
      "K-FOLD # 2\n",
      "Train AUC-ROC Score:  0.9466337109234279  Val AUC-ROC score:  0.9195622860699098 \n",
      "\n",
      "validation kappa:- 0.5357261108535858\n",
      "K-FOLD # 3\n",
      "Train AUC-ROC Score:  0.9400548785757497  Val AUC-ROC score:  0.941747572815534 \n",
      "\n",
      "validation kappa:- 0.5940652818991099\n",
      "\n",
      "\n",
      " Testing on the independent data-set\n",
      "\n",
      "\n",
      "SEPT4 was present already\n",
      "0:- NSCLC Detected \t& \t1:- Normal\n",
      "\n",
      "[[188  11]\n",
      " [  0  19]]\n",
      "              precision    recall  f1-score   support\n",
      "\n",
      "           0       1.00      0.94      0.97       199\n",
      "           1       0.63      1.00      0.78        19\n",
      "\n",
      "    accuracy                           0.95       218\n",
      "   macro avg       0.82      0.97      0.87       218\n",
      "weighted avg       0.97      0.95      0.95       218\n",
      "\n",
      "test kappa:- 0.7486900020959966\n"
     ]
    }
   ],
   "source": [
    "import pandas as pd\n",
    "import numpy as np\n",
    "import plotly.offline as plt\n",
    "import plotly.graph_objs as go\n",
    "from boruta import BorutaPy\n",
    "import optuna\n",
    "\n",
    "import numpy as np\n",
    "import sklearn.datasets\n",
    "import sklearn.metrics\n",
    "from sklearn.model_selection import train_test_split\n",
    "\n",
    "\n",
    "# train = pd.read_csv('Final_train_data_with_363_features.csv')\n",
    "# -------train = pd.read_csv('file:///D:/remote%20projects/Dr.%20Kenji%20Mizugichi/oversampling%20after%20feature%20selection/train_oversample_after_feature_selection.csv')\n",
    "# train = pd.read_csv('file:///D:/remote%20projects/Dr.%20Kenji%20Mizugichi/oversampling%20after%20feature%20selection/train_oversample_before_feature_selection.csv')\n",
    "\n",
    "\n",
    "# 0.01787708494254063 0.03594300058548619 100.01365326405414 23.036653198054267\n",
    "\n",
    "\n",
    "train = pd.read_csv('file:///D:/remote%20projects/NIBIOHN/NSCLC/training%20files/412_genes/train_after_features_selection.csv')\n",
    "train = train.drop(['Unnamed: 0'],axis=1)\n",
    "\n",
    "\n",
    "try:\n",
    "    train['SEPT4']\n",
    "\n",
    "except:\n",
    "    train.rename(columns={'Sep-04': 'SEPT4'}, inplace=True)\n",
    "else:\n",
    "    print('SEPT4 was present already')\n",
    "    \n",
    "  \n",
    "\n",
    "\n",
    "from scipy import stats\n",
    "import numpy as np\n",
    "z = np.abs(stats.zscore(train))\n",
    "threshold = 3\n",
    "original_train = train\n",
    "train = train[(z < 3).all(axis=1)]\n",
    "train.columns\n",
    "y = train['Disease Status (NSCLC: primary tumors; Normal: non-tumor lung tissues)']\n",
    "x = train[train.columns[:-1]]\n",
    "x = np.asarray(x)\n",
    "y = np.asarray(y)\n",
    "# from imblearn.over_sampling import ADASYN \n",
    "# sm = ADASYN(random_state = 2) \n",
    "# x, y = sm.fit_sample(x, y.ravel())\n",
    "\n",
    "\n",
    "#clf = RandomForestRegressor(params)\n",
    "\n",
    "\n",
    "   \n",
    "\n",
    "from sklearn import linear_model\n",
    "#clf = RandomForestRegressor(params)\n",
    "\n",
    "#0.0303557625626358, 0.01, 10.0, 55.92073670515847\n",
    "#\n",
    "\n",
    "clf = linear_model.LogisticRegression(C=0.01787708494254063,penalty='l1', solver='liblinear',\n",
    "                                      tol=0.03594300058548619, max_iter=100.01365326405414,\n",
    "                                      warm_start=True,\n",
    "                                      intercept_scaling=23.036653198054267,random_state = 2)\n",
    "#from pprint import pprint\n",
    "# Look at parameters used by our current forest\n",
    "#print('Parameters currently in use:\\n')\n",
    "#pprint(rf.get_params())\n",
    "from sklearn.metrics import roc_auc_score\n",
    "from sklearn.model_selection import StratifiedKFold\n",
    "skf = StratifiedKFold(n_splits=3, random_state=42)\n",
    "# X is the feature set and y is the target\n",
    "fold = 1\n",
    "for train_index, val_index in skf.split(x,y): \n",
    "    #print(\"Train:\", train_index, \"Validation:\", val_index) \n",
    "    X_train, X_test = x[train_index], x[val_index] \n",
    "    Y_train, Y_test = y[train_index], y[val_index]\n",
    "    model = clf.fit(X_train,Y_train)\n",
    "    a_train = model.predict(X_train)\n",
    "    a_test = model.predict(X_test)\n",
    "    print('K-FOLD #',fold)\n",
    "    fold+=1\n",
    "    print('Train AUC-ROC Score: ',roc_auc_score(a_train,Y_train),' Val AUC-ROC score: ',roc_auc_score(a_test,Y_test),'\\n')\n",
    "    from sklearn.metrics import cohen_kappa_score\n",
    "\n",
    "    print('validation kappa:-',cohen_kappa_score(a_test, Y_test))\n",
    "    \n",
    "   \n",
    "# model = clf.fit(x[:800],y[:800])\n",
    "\n",
    "# a_test = model.predict(x[800:])\n",
    "\n",
    "# model = clf.fit(x,y)\n",
    "\n",
    "\n",
    "from sklearn.metrics import classification_report, confusion_matrix\n",
    "# print(confusion_matrix(a_test,y[800:]))\n",
    "# print(classification_report(a_test,y[800:]))\n",
    "\n",
    "print('\\n\\n Testing on the independent data-set\\n\\n')\n",
    "\n",
    "# test = pd.read_csv('Final_independent_test_data_with_363_features.csv')\n",
    "# ---test = pd.read_csv('file:///D:/remote%20projects/Dr.%20Kenji%20Mizugichi/oversampling%20after%20feature%20selection/test_oversample_after_feature_selection.csv')\n",
    "# test = pd.read_csv('file:///D:/remote%20projects/Dr.%20Kenji%20Mizugichi/oversampling%20after%20feature%20selection/test_oversample_before_feature_selection.csv')\n",
    "\n",
    "test = pd.read_csv('file:///D:/remote%20projects/NIBIOHN/NSCLC/test%20files/test_after_features_selection.csv')\n",
    "test = test.drop(['Unnamed: 0'],axis=1)\n",
    "\n",
    "try:\n",
    "    test['SEPT4']\n",
    "\n",
    "except:\n",
    "    test.rename(columns={'Sep-04': 'SEPT4'}, inplace=True)\n",
    "else:\n",
    "    print('SEPT4 was present already')\n",
    "    \n",
    "  \n",
    "\n",
    "\n",
    "\n",
    "\n",
    "\n",
    "y_testt = test['Disease Status (NSCLC: primary tumors; Normal: non-tumor lung tissues)']\n",
    "\n",
    "x_testt = test[test.columns[:-1]]\n",
    "\n",
    "y_testt_pred = model.predict(x_testt)\n",
    "\n",
    "# prediction = []\n",
    "# sum=0\n",
    "# for i, j in y_testt_pred:\n",
    "#     if i>j:\n",
    "#         prediction.append(0)\n",
    "#     else:\n",
    "#         prediction.append(1)\n",
    "#         sum+=1\n",
    "\n",
    "# sum\n",
    "\n",
    "a_test = []\n",
    "for i in y_testt_pred:\n",
    "    if i>0.5:\n",
    "        a_test.append(1)\n",
    "    else:\n",
    "        a_test.append(0)\n",
    "from sklearn.metrics import classification_report, confusion_matrix\n",
    "print('0:- NSCLC Detected', '\\t& \\t1:- Normal\\n')\n",
    "print(confusion_matrix(y_testt,a_test))\n",
    "print(classification_report(y_testt,a_test))\n",
    "\n",
    "from sklearn.metrics import cohen_kappa_score\n",
    "\n",
    "print('test kappa:-',cohen_kappa_score(y_testt, a_test))\n"
   ]
  },
  {
   "cell_type": "code",
   "execution_count": null,
   "metadata": {},
   "outputs": [],
   "source": []
  },
  {
   "cell_type": "code",
   "execution_count": 2,
   "metadata": {},
   "outputs": [
    {
     "name": "stdout",
     "output_type": "stream",
     "text": [
      "0.1 0.1 100 23\n"
     ]
    },
    {
     "name": "stderr",
     "output_type": "stream",
     "text": [
      "C:\\Users\\SARANSH\\Anaconda3\\envs\\saransh\\lib\\site-packages\\sklearn\\model_selection\\_split.py:296: FutureWarning:\n",
      "\n",
      "Setting a random_state has no effect since shuffle is False. This will raise an error in 0.24. You should leave random_state to its default (None), or set shuffle=True.\n",
      "\n"
     ]
    },
    {
     "name": "stdout",
     "output_type": "stream",
     "text": [
      "Test kappa:- 0.537003757555955\n",
      "Test kappa:- 0.6511014874788175\n",
      "Test kappa:- 0.5596700892105706\n",
      "0.1 0.1 100 23\n"
     ]
    },
    {
     "name": "stderr",
     "output_type": "stream",
     "text": [
      "C:\\Users\\SARANSH\\Anaconda3\\envs\\saransh\\lib\\site-packages\\sklearn\\model_selection\\_split.py:296: FutureWarning:\n",
      "\n",
      "Setting a random_state has no effect since shuffle is False. This will raise an error in 0.24. You should leave random_state to its default (None), or set shuffle=True.\n",
      "\n"
     ]
    },
    {
     "name": "stdout",
     "output_type": "stream",
     "text": [
      "Test kappa:- 0.537003757555955\n",
      "Test kappa:- 0.6511014874788175\n",
      "Test kappa:- 0.5596700892105706\n",
      "0.1 0.1 100 23\n"
     ]
    },
    {
     "name": "stderr",
     "output_type": "stream",
     "text": [
      "C:\\Users\\SARANSH\\Anaconda3\\envs\\saransh\\lib\\site-packages\\sklearn\\model_selection\\_split.py:296: FutureWarning:\n",
      "\n",
      "Setting a random_state has no effect since shuffle is False. This will raise an error in 0.24. You should leave random_state to its default (None), or set shuffle=True.\n",
      "\n"
     ]
    },
    {
     "name": "stdout",
     "output_type": "stream",
     "text": [
      "Test kappa:- 0.537003757555955\n",
      "Test kappa:- 0.6511014874788175\n",
      "Test kappa:- 0.5596700892105706\n",
      "0.17961144893431058 0.11670589261725178 99.91148787647049 23.01873718129833\n"
     ]
    },
    {
     "name": "stderr",
     "output_type": "stream",
     "text": [
      "C:\\Users\\SARANSH\\Anaconda3\\envs\\saransh\\lib\\site-packages\\sklearn\\model_selection\\_split.py:296: FutureWarning:\n",
      "\n",
      "Setting a random_state has no effect since shuffle is False. This will raise an error in 0.24. You should leave random_state to its default (None), or set shuffle=True.\n",
      "\n"
     ]
    },
    {
     "name": "stdout",
     "output_type": "stream",
     "text": [
      "Test kappa:- 0.548167799701542\n",
      "Test kappa:- 0.6813486649775873\n",
      "Test kappa:- 0.5837528206908523\n",
      "0.13163240036755852 0.05768094721950763 99.90876713504441 22.978713441557723\n"
     ]
    },
    {
     "name": "stderr",
     "output_type": "stream",
     "text": [
      "C:\\Users\\SARANSH\\Anaconda3\\envs\\saransh\\lib\\site-packages\\sklearn\\model_selection\\_split.py:296: FutureWarning:\n",
      "\n",
      "Setting a random_state has no effect since shuffle is False. This will raise an error in 0.24. You should leave random_state to its default (None), or set shuffle=True.\n",
      "\n"
     ]
    },
    {
     "name": "stdout",
     "output_type": "stream",
     "text": [
      "Test kappa:- 0.4954482332973307\n",
      "Test kappa:- 0.8062652743834704\n",
      "Test kappa:- 0.4857708111398569\n",
      "0.16591971998295332 0.16658321459782424 100.0331785632311 22.921111685007066\n"
     ]
    },
    {
     "name": "stderr",
     "output_type": "stream",
     "text": [
      "C:\\Users\\SARANSH\\Anaconda3\\envs\\saransh\\lib\\site-packages\\sklearn\\model_selection\\_split.py:296: FutureWarning:\n",
      "\n",
      "Setting a random_state has no effect since shuffle is False. This will raise an error in 0.24. You should leave random_state to its default (None), or set shuffle=True.\n",
      "\n"
     ]
    },
    {
     "name": "stdout",
     "output_type": "stream",
     "text": [
      "Test kappa:- 0.537003757555955\n",
      "Test kappa:- 0.6813486649775873\n",
      "Test kappa:- 0.5837528206908523\n",
      "0.18757259382774163 0.11837648187897697 99.90263666411754 23.020610899428164\n"
     ]
    },
    {
     "name": "stderr",
     "output_type": "stream",
     "text": [
      "C:\\Users\\SARANSH\\Anaconda3\\envs\\saransh\\lib\\site-packages\\sklearn\\model_selection\\_split.py:296: FutureWarning:\n",
      "\n",
      "Setting a random_state has no effect since shuffle is False. This will raise an error in 0.24. You should leave random_state to its default (None), or set shuffle=True.\n",
      "\n"
     ]
    },
    {
     "name": "stdout",
     "output_type": "stream",
     "text": [
      "Test kappa:- 0.548167799701542\n",
      "Test kappa:- 0.6813486649775873\n",
      "Test kappa:- 0.5837528206908523\n",
      "0.5641866756511058 0.4718950081716877 99.90523836011461 23.32529512443653\n"
     ]
    },
    {
     "name": "stderr",
     "output_type": "stream",
     "text": [
      "C:\\Users\\SARANSH\\Anaconda3\\envs\\saransh\\lib\\site-packages\\sklearn\\model_selection\\_split.py:296: FutureWarning:\n",
      "\n",
      "Setting a random_state has no effect since shuffle is False. This will raise an error in 0.24. You should leave random_state to its default (None), or set shuffle=True.\n",
      "\n"
     ]
    },
    {
     "name": "stdout",
     "output_type": "stream",
     "text": [
      "Test kappa:- 0.5596700892105706\n",
      "Test kappa:- 0.7309195638757457\n",
      "Test kappa:- 0.6511014874788175\n",
      "0.26805628952954486 0.01 99.74397844635455 23.763124196020325\n"
     ]
    },
    {
     "name": "stderr",
     "output_type": "stream",
     "text": [
      "C:\\Users\\SARANSH\\Anaconda3\\envs\\saransh\\lib\\site-packages\\sklearn\\model_selection\\_split.py:296: FutureWarning:\n",
      "\n",
      "Setting a random_state has no effect since shuffle is False. This will raise an error in 0.24. You should leave random_state to its default (None), or set shuffle=True.\n",
      "\n"
     ]
    },
    {
     "name": "stdout",
     "output_type": "stream",
     "text": [
      "Test kappa:- 0.23911119850555507\n",
      "Test kappa:- 0.6511014874788175\n",
      "Test kappa:- 0.45826633533109196\n",
      "1 1 99.91626466335796 24.74695182169705\n"
     ]
    },
    {
     "name": "stderr",
     "output_type": "stream",
     "text": [
      "C:\\Users\\SARANSH\\Anaconda3\\envs\\saransh\\lib\\site-packages\\sklearn\\model_selection\\_split.py:296: FutureWarning:\n",
      "\n",
      "Setting a random_state has no effect since shuffle is False. This will raise an error in 0.24. You should leave random_state to its default (None), or set shuffle=True.\n",
      "\n"
     ]
    },
    {
     "name": "stdout",
     "output_type": "stream",
     "text": [
      "Test kappa:- 0.5837528206908523\n",
      "Test kappa:- 0.7486900020959966\n",
      "Test kappa:- 0.6511014874788175\n",
      "0.6074421031794606 0.5133164142669058 99.90488548262162 23.35995329272441\n"
     ]
    },
    {
     "name": "stderr",
     "output_type": "stream",
     "text": [
      "C:\\Users\\SARANSH\\Anaconda3\\envs\\saransh\\lib\\site-packages\\sklearn\\model_selection\\_split.py:296: FutureWarning:\n",
      "\n",
      "Setting a random_state has no effect since shuffle is False. This will raise an error in 0.24. You should leave random_state to its default (None), or set shuffle=True.\n",
      "\n"
     ]
    },
    {
     "name": "stdout",
     "output_type": "stream",
     "text": [
      "Test kappa:- 0.5715262348316528\n",
      "Test kappa:- 0.7486900020959966\n",
      "Test kappa:- 0.6511014874788175\n",
      "0.3676365351863282 1 99.73722290689231 21.823300508585657\n"
     ]
    },
    {
     "name": "stderr",
     "output_type": "stream",
     "text": [
      "C:\\Users\\SARANSH\\Anaconda3\\envs\\saransh\\lib\\site-packages\\sklearn\\model_selection\\_split.py:296: FutureWarning:\n",
      "\n",
      "Setting a random_state has no effect since shuffle is False. This will raise an error in 0.24. You should leave random_state to its default (None), or set shuffle=True.\n",
      "\n"
     ]
    },
    {
     "name": "stdout",
     "output_type": "stream",
     "text": [
      "Test kappa:- 0.537003757555955\n",
      "Test kappa:- 0.6972822852608609\n",
      "Test kappa:- 0.6228373702422145\n",
      "0.01 0.01 99.90731740215605 15.67322766350945\n"
     ]
    },
    {
     "name": "stderr",
     "output_type": "stream",
     "text": [
      "C:\\Users\\SARANSH\\Anaconda3\\envs\\saransh\\lib\\site-packages\\sklearn\\model_selection\\_split.py:296: FutureWarning:\n",
      "\n",
      "Setting a random_state has no effect since shuffle is False. This will raise an error in 0.24. You should leave random_state to its default (None), or set shuffle=True.\n",
      "\n"
     ]
    },
    {
     "name": "stdout",
     "output_type": "stream",
     "text": [
      "Test kappa:- 0.7671437726981414\n",
      "Test kappa:- 0.6367339381596001\n",
      "Test kappa:- 0.37364321287191926\n",
      "0.32652891897497377 0.19373391617531294 99.90828760437527 23.327719549213978\n"
     ]
    },
    {
     "name": "stderr",
     "output_type": "stream",
     "text": [
      "C:\\Users\\SARANSH\\Anaconda3\\envs\\saransh\\lib\\site-packages\\sklearn\\model_selection\\_split.py:296: FutureWarning:\n",
      "\n",
      "Setting a random_state has no effect since shuffle is False. This will raise an error in 0.24. You should leave random_state to its default (None), or set shuffle=True.\n",
      "\n"
     ]
    },
    {
     "name": "stdout",
     "output_type": "stream",
     "text": [
      "Test kappa:- 0.5596700892105706\n",
      "Test kappa:- 0.7486900020959966\n",
      "Test kappa:- 0.6511014874788175\n",
      "1 0.01 100.64381620614017 30.86308427154196\n"
     ]
    },
    {
     "name": "stderr",
     "output_type": "stream",
     "text": [
      "C:\\Users\\SARANSH\\Anaconda3\\envs\\saransh\\lib\\site-packages\\sklearn\\model_selection\\_split.py:296: FutureWarning:\n",
      "\n",
      "Setting a random_state has no effect since shuffle is False. This will raise an error in 0.24. You should leave random_state to its default (None), or set shuffle=True.\n",
      "\n"
     ]
    },
    {
     "name": "stdout",
     "output_type": "stream",
     "text": [
      "Test kappa:- 0.4495743759919203\n",
      "Test kappa:- 0.848646146725295\n",
      "Test kappa:- 0.6659643746408734\n",
      "0.5079482576940119 0.01 107.03073445398117 83.14069830795809\n"
     ]
    },
    {
     "name": "stderr",
     "output_type": "stream",
     "text": [
      "C:\\Users\\SARANSH\\Anaconda3\\envs\\saransh\\lib\\site-packages\\sklearn\\model_selection\\_split.py:296: FutureWarning:\n",
      "\n",
      "Setting a random_state has no effect since shuffle is False. This will raise an error in 0.24. You should leave random_state to its default (None), or set shuffle=True.\n",
      "\n"
     ]
    },
    {
     "name": "stdout",
     "output_type": "stream",
     "text": [
      "Test kappa:- 0.4495743759919203\n",
      "Test kappa:- 0.944963393082555\n",
      "Test kappa:- 0.3945245337918265\n",
      "1 0.01 105.97309112835595 26.521544268781046\n"
     ]
    },
    {
     "name": "stderr",
     "output_type": "stream",
     "text": [
      "C:\\Users\\SARANSH\\Anaconda3\\envs\\saransh\\lib\\site-packages\\sklearn\\model_selection\\_split.py:296: FutureWarning:\n",
      "\n",
      "Setting a random_state has no effect since shuffle is False. This will raise an error in 0.24. You should leave random_state to its default (None), or set shuffle=True.\n",
      "\n"
     ]
    },
    {
     "name": "stdout",
     "output_type": "stream",
     "text": [
      "Test kappa:- 0.4495743759919203\n",
      "Test kappa:- 0.848646146725295\n",
      "Test kappa:- 0.6659643746408734\n",
      "1 0.01 100.73447553606496 31.76706264783759\n"
     ]
    },
    {
     "name": "stderr",
     "output_type": "stream",
     "text": [
      "C:\\Users\\SARANSH\\Anaconda3\\envs\\saransh\\lib\\site-packages\\sklearn\\model_selection\\_split.py:296: FutureWarning:\n",
      "\n",
      "Setting a random_state has no effect since shuffle is False. This will raise an error in 0.24. You should leave random_state to its default (None), or set shuffle=True.\n",
      "\n"
     ]
    },
    {
     "name": "stdout",
     "output_type": "stream",
     "text": [
      "Test kappa:- 0.4495743759919203\n",
      "Test kappa:- 0.848646146725295\n",
      "Test kappa:- 0.6659643746408734\n",
      "1 0.01 51.799541515306615 10\n"
     ]
    },
    {
     "name": "stderr",
     "output_type": "stream",
     "text": [
      "C:\\Users\\SARANSH\\Anaconda3\\envs\\saransh\\lib\\site-packages\\sklearn\\model_selection\\_split.py:296: FutureWarning:\n",
      "\n",
      "Setting a random_state has no effect since shuffle is False. This will raise an error in 0.24. You should leave random_state to its default (None), or set shuffle=True.\n",
      "\n"
     ]
    },
    {
     "name": "stdout",
     "output_type": "stream",
     "text": [
      "Test kappa:- 0.4495743759919203\n",
      "Test kappa:- 0.848646146725295\n",
      "Test kappa:- 0.6659643746408734\n",
      "1 0.01 60.001005337166205 67.45803790048248\n"
     ]
    },
    {
     "name": "stderr",
     "output_type": "stream",
     "text": [
      "C:\\Users\\SARANSH\\Anaconda3\\envs\\saransh\\lib\\site-packages\\sklearn\\model_selection\\_split.py:296: FutureWarning:\n",
      "\n",
      "Setting a random_state has no effect since shuffle is False. This will raise an error in 0.24. You should leave random_state to its default (None), or set shuffle=True.\n",
      "\n"
     ]
    },
    {
     "name": "stdout",
     "output_type": "stream",
     "text": [
      "Test kappa:- 0.4495743759919203\n",
      "Test kappa:- 0.848646146725295\n",
      "Test kappa:- 0.6659643746408734\n",
      "1 0.01 100.10155646417408 25.002340415683555\n"
     ]
    },
    {
     "name": "stderr",
     "output_type": "stream",
     "text": [
      "C:\\Users\\SARANSH\\Anaconda3\\envs\\saransh\\lib\\site-packages\\sklearn\\model_selection\\_split.py:296: FutureWarning:\n",
      "\n",
      "Setting a random_state has no effect since shuffle is False. This will raise an error in 0.24. You should leave random_state to its default (None), or set shuffle=True.\n",
      "\n"
     ]
    },
    {
     "name": "stdout",
     "output_type": "stream",
     "text": [
      "Test kappa:- 0.4495743759919203\n",
      "Test kappa:- 0.848646146725295\n",
      "Test kappa:- 0.6659643746408734\n",
      "1 0.01 173.9864929243714 18.016650494355257\n"
     ]
    },
    {
     "name": "stderr",
     "output_type": "stream",
     "text": [
      "C:\\Users\\SARANSH\\Anaconda3\\envs\\saransh\\lib\\site-packages\\sklearn\\model_selection\\_split.py:296: FutureWarning:\n",
      "\n",
      "Setting a random_state has no effect since shuffle is False. This will raise an error in 0.24. You should leave random_state to its default (None), or set shuffle=True.\n",
      "\n"
     ]
    },
    {
     "name": "stdout",
     "output_type": "stream",
     "text": [
      "Test kappa:- 0.4495743759919203\n",
      "Test kappa:- 0.848646146725295\n",
      "Test kappa:- 0.6659643746408734\n",
      "1 0.01 417.14963874563637 10\n"
     ]
    },
    {
     "name": "stderr",
     "output_type": "stream",
     "text": [
      "C:\\Users\\SARANSH\\Anaconda3\\envs\\saransh\\lib\\site-packages\\sklearn\\model_selection\\_split.py:296: FutureWarning:\n",
      "\n",
      "Setting a random_state has no effect since shuffle is False. This will raise an error in 0.24. You should leave random_state to its default (None), or set shuffle=True.\n",
      "\n"
     ]
    },
    {
     "name": "stdout",
     "output_type": "stream",
     "text": [
      "Test kappa:- 0.4495743759919203\n",
      "Test kappa:- 0.848646146725295\n",
      "Test kappa:- 0.6659643746408734\n",
      "1 0.01 101.43764094425138 34.69428359334096\n"
     ]
    },
    {
     "name": "stderr",
     "output_type": "stream",
     "text": [
      "C:\\Users\\SARANSH\\Anaconda3\\envs\\saransh\\lib\\site-packages\\sklearn\\model_selection\\_split.py:296: FutureWarning:\n",
      "\n",
      "Setting a random_state has no effect since shuffle is False. This will raise an error in 0.24. You should leave random_state to its default (None), or set shuffle=True.\n",
      "\n"
     ]
    },
    {
     "name": "stdout",
     "output_type": "stream",
     "text": [
      "Test kappa:- 0.4495743759919203\n",
      "Test kappa:- 0.848646146725295\n",
      "Test kappa:- 0.6659643746408734\n",
      "1 0.01 86.40950617145491 100\n"
     ]
    },
    {
     "name": "stderr",
     "output_type": "stream",
     "text": [
      "C:\\Users\\SARANSH\\Anaconda3\\envs\\saransh\\lib\\site-packages\\sklearn\\model_selection\\_split.py:296: FutureWarning:\n",
      "\n",
      "Setting a random_state has no effect since shuffle is False. This will raise an error in 0.24. You should leave random_state to its default (None), or set shuffle=True.\n",
      "\n"
     ]
    },
    {
     "name": "stdout",
     "output_type": "stream",
     "text": [
      "Test kappa:- 0.4495743759919203\n",
      "Test kappa:- 0.848646146725295\n",
      "Test kappa:- 0.6659643746408734\n",
      "1 0.01 10 100\n"
     ]
    },
    {
     "name": "stderr",
     "output_type": "stream",
     "text": [
      "C:\\Users\\SARANSH\\Anaconda3\\envs\\saransh\\lib\\site-packages\\sklearn\\model_selection\\_split.py:296: FutureWarning:\n",
      "\n",
      "Setting a random_state has no effect since shuffle is False. This will raise an error in 0.24. You should leave random_state to its default (None), or set shuffle=True.\n",
      "\n"
     ]
    },
    {
     "name": "stdout",
     "output_type": "stream",
     "text": [
      "Test kappa:- 0.4495743759919203\n",
      "Test kappa:- 0.848646146725295\n",
      "Test kappa:- 0.6659643746408734\n",
      "1 0.01 95.80458639581407 14.614938161895388\n"
     ]
    },
    {
     "name": "stderr",
     "output_type": "stream",
     "text": [
      "C:\\Users\\SARANSH\\Anaconda3\\envs\\saransh\\lib\\site-packages\\sklearn\\model_selection\\_split.py:296: FutureWarning:\n",
      "\n",
      "Setting a random_state has no effect since shuffle is False. This will raise an error in 0.24. You should leave random_state to its default (None), or set shuffle=True.\n",
      "\n"
     ]
    },
    {
     "name": "stdout",
     "output_type": "stream",
     "text": [
      "Test kappa:- 0.4495743759919203\n",
      "Test kappa:- 0.848646146725295\n",
      "Test kappa:- 0.6659643746408734\n",
      "1 0.01 204.36331307487984 10\n"
     ]
    },
    {
     "name": "stderr",
     "output_type": "stream",
     "text": [
      "C:\\Users\\SARANSH\\Anaconda3\\envs\\saransh\\lib\\site-packages\\sklearn\\model_selection\\_split.py:296: FutureWarning:\n",
      "\n",
      "Setting a random_state has no effect since shuffle is False. This will raise an error in 0.24. You should leave random_state to its default (None), or set shuffle=True.\n",
      "\n"
     ]
    },
    {
     "name": "stdout",
     "output_type": "stream",
     "text": [
      "Test kappa:- 0.4495743759919203\n",
      "Test kappa:- 0.848646146725295\n",
      "Test kappa:- 0.6659643746408734\n",
      "1 0.01 204.92808174753628 10\n"
     ]
    },
    {
     "name": "stderr",
     "output_type": "stream",
     "text": [
      "C:\\Users\\SARANSH\\Anaconda3\\envs\\saransh\\lib\\site-packages\\sklearn\\model_selection\\_split.py:296: FutureWarning:\n",
      "\n",
      "Setting a random_state has no effect since shuffle is False. This will raise an error in 0.24. You should leave random_state to its default (None), or set shuffle=True.\n",
      "\n"
     ]
    },
    {
     "name": "stdout",
     "output_type": "stream",
     "text": [
      "Test kappa:- 0.4495743759919203\n",
      "Test kappa:- 0.848646146725295\n",
      "Test kappa:- 0.6659643746408734\n",
      "1 0.01 96.39517296802727 16.27726414200106\n"
     ]
    },
    {
     "name": "stderr",
     "output_type": "stream",
     "text": [
      "C:\\Users\\SARANSH\\Anaconda3\\envs\\saransh\\lib\\site-packages\\sklearn\\model_selection\\_split.py:296: FutureWarning:\n",
      "\n",
      "Setting a random_state has no effect since shuffle is False. This will raise an error in 0.24. You should leave random_state to its default (None), or set shuffle=True.\n",
      "\n"
     ]
    },
    {
     "name": "stdout",
     "output_type": "stream",
     "text": [
      "Test kappa:- 0.4495743759919203\n",
      "Test kappa:- 0.848646146725295\n",
      "Test kappa:- 0.6659643746408734\n",
      "1 0.01 10 10\n"
     ]
    },
    {
     "name": "stderr",
     "output_type": "stream",
     "text": [
      "C:\\Users\\SARANSH\\Anaconda3\\envs\\saransh\\lib\\site-packages\\sklearn\\model_selection\\_split.py:296: FutureWarning:\n",
      "\n",
      "Setting a random_state has no effect since shuffle is False. This will raise an error in 0.24. You should leave random_state to its default (None), or set shuffle=True.\n",
      "\n"
     ]
    },
    {
     "name": "stdout",
     "output_type": "stream",
     "text": [
      "Test kappa:- 0.4495743759919203\n",
      "Test kappa:- 0.848646146725295\n",
      "Test kappa:- 0.6659643746408734\n",
      "1 0.01 10 100\n"
     ]
    },
    {
     "name": "stderr",
     "output_type": "stream",
     "text": [
      "C:\\Users\\SARANSH\\Anaconda3\\envs\\saransh\\lib\\site-packages\\sklearn\\model_selection\\_split.py:296: FutureWarning:\n",
      "\n",
      "Setting a random_state has no effect since shuffle is False. This will raise an error in 0.24. You should leave random_state to its default (None), or set shuffle=True.\n",
      "\n"
     ]
    },
    {
     "name": "stdout",
     "output_type": "stream",
     "text": [
      "Test kappa:- 0.4495743759919203\n",
      "Test kappa:- 0.848646146725295\n",
      "Test kappa:- 0.6659643746408734\n",
      "1 0.01 114.52025948251634 100\n"
     ]
    },
    {
     "name": "stderr",
     "output_type": "stream",
     "text": [
      "C:\\Users\\SARANSH\\Anaconda3\\envs\\saransh\\lib\\site-packages\\sklearn\\model_selection\\_split.py:296: FutureWarning:\n",
      "\n",
      "Setting a random_state has no effect since shuffle is False. This will raise an error in 0.24. You should leave random_state to its default (None), or set shuffle=True.\n",
      "\n"
     ]
    },
    {
     "name": "stdout",
     "output_type": "stream",
     "text": [
      "Test kappa:- 0.4495743759919203\n",
      "Test kappa:- 0.848646146725295\n",
      "Test kappa:- 0.6659643746408734\n",
      "1 0.01 304.53574989277774 100\n"
     ]
    },
    {
     "name": "stderr",
     "output_type": "stream",
     "text": [
      "C:\\Users\\SARANSH\\Anaconda3\\envs\\saransh\\lib\\site-packages\\sklearn\\model_selection\\_split.py:296: FutureWarning:\n",
      "\n",
      "Setting a random_state has no effect since shuffle is False. This will raise an error in 0.24. You should leave random_state to its default (None), or set shuffle=True.\n",
      "\n"
     ]
    },
    {
     "name": "stdout",
     "output_type": "stream",
     "text": [
      "Test kappa:- 0.4495743759919203\n",
      "Test kappa:- 0.848646146725295\n",
      "Test kappa:- 0.6659643746408734\n",
      "1 0.01 25.89462676907243 10\n"
     ]
    },
    {
     "name": "stderr",
     "output_type": "stream",
     "text": [
      "C:\\Users\\SARANSH\\Anaconda3\\envs\\saransh\\lib\\site-packages\\sklearn\\model_selection\\_split.py:296: FutureWarning:\n",
      "\n",
      "Setting a random_state has no effect since shuffle is False. This will raise an error in 0.24. You should leave random_state to its default (None), or set shuffle=True.\n",
      "\n"
     ]
    },
    {
     "name": "stdout",
     "output_type": "stream",
     "text": [
      "Test kappa:- 0.4495743759919203\n",
      "Test kappa:- 0.848646146725295\n",
      "Test kappa:- 0.6659643746408734\n",
      "1 0.01 95.5595002305601 10\n"
     ]
    },
    {
     "name": "stderr",
     "output_type": "stream",
     "text": [
      "C:\\Users\\SARANSH\\Anaconda3\\envs\\saransh\\lib\\site-packages\\sklearn\\model_selection\\_split.py:296: FutureWarning:\n",
      "\n",
      "Setting a random_state has no effect since shuffle is False. This will raise an error in 0.24. You should leave random_state to its default (None), or set shuffle=True.\n",
      "\n"
     ]
    },
    {
     "name": "stdout",
     "output_type": "stream",
     "text": [
      "Test kappa:- 0.4495743759919203\n",
      "Test kappa:- 0.848646146725295\n",
      "Test kappa:- 0.6659643746408734\n",
      "1 0.01 10 10\n"
     ]
    },
    {
     "name": "stderr",
     "output_type": "stream",
     "text": [
      "C:\\Users\\SARANSH\\Anaconda3\\envs\\saransh\\lib\\site-packages\\sklearn\\model_selection\\_split.py:296: FutureWarning:\n",
      "\n",
      "Setting a random_state has no effect since shuffle is False. This will raise an error in 0.24. You should leave random_state to its default (None), or set shuffle=True.\n",
      "\n"
     ]
    },
    {
     "name": "stdout",
     "output_type": "stream",
     "text": [
      "Test kappa:- 0.4495743759919203\n",
      "Test kappa:- 0.848646146725295\n",
      "Test kappa:- 0.6659643746408734\n",
      "1 0.01 159.23330863688818 100\n"
     ]
    },
    {
     "name": "stderr",
     "output_type": "stream",
     "text": [
      "C:\\Users\\SARANSH\\Anaconda3\\envs\\saransh\\lib\\site-packages\\sklearn\\model_selection\\_split.py:296: FutureWarning:\n",
      "\n",
      "Setting a random_state has no effect since shuffle is False. This will raise an error in 0.24. You should leave random_state to its default (None), or set shuffle=True.\n",
      "\n"
     ]
    },
    {
     "name": "stdout",
     "output_type": "stream",
     "text": [
      "Test kappa:- 0.4495743759919203\n",
      "Test kappa:- 0.848646146725295\n",
      "Test kappa:- 0.6659643746408734\n",
      "1 0.01 117.28842758756387 19.508466971434586\n"
     ]
    },
    {
     "name": "stderr",
     "output_type": "stream",
     "text": [
      "C:\\Users\\SARANSH\\Anaconda3\\envs\\saransh\\lib\\site-packages\\sklearn\\model_selection\\_split.py:296: FutureWarning:\n",
      "\n",
      "Setting a random_state has no effect since shuffle is False. This will raise an error in 0.24. You should leave random_state to its default (None), or set shuffle=True.\n",
      "\n"
     ]
    },
    {
     "name": "stdout",
     "output_type": "stream",
     "text": [
      "Test kappa:- 0.4495743759919203\n",
      "Test kappa:- 0.848646146725295\n",
      "Test kappa:- 0.6659643746408734\n",
      "1 0.01 716.130120783048 10\n"
     ]
    },
    {
     "name": "stderr",
     "output_type": "stream",
     "text": [
      "C:\\Users\\SARANSH\\Anaconda3\\envs\\saransh\\lib\\site-packages\\sklearn\\model_selection\\_split.py:296: FutureWarning:\n",
      "\n",
      "Setting a random_state has no effect since shuffle is False. This will raise an error in 0.24. You should leave random_state to its default (None), or set shuffle=True.\n",
      "\n"
     ]
    },
    {
     "name": "stdout",
     "output_type": "stream",
     "text": [
      "Test kappa:- 0.4495743759919203\n",
      "Test kappa:- 0.848646146725295\n",
      "Test kappa:- 0.6659643746408734\n",
      "1 0.01 10 10\n"
     ]
    },
    {
     "name": "stderr",
     "output_type": "stream",
     "text": [
      "C:\\Users\\SARANSH\\Anaconda3\\envs\\saransh\\lib\\site-packages\\sklearn\\model_selection\\_split.py:296: FutureWarning:\n",
      "\n",
      "Setting a random_state has no effect since shuffle is False. This will raise an error in 0.24. You should leave random_state to its default (None), or set shuffle=True.\n",
      "\n"
     ]
    },
    {
     "name": "stdout",
     "output_type": "stream",
     "text": [
      "Test kappa:- 0.4495743759919203\n",
      "Test kappa:- 0.848646146725295\n",
      "Test kappa:- 0.6659643746408734\n",
      "1 0.01 95.51216460005489 83.58629560861618\n"
     ]
    },
    {
     "name": "stderr",
     "output_type": "stream",
     "text": [
      "C:\\Users\\SARANSH\\Anaconda3\\envs\\saransh\\lib\\site-packages\\sklearn\\model_selection\\_split.py:296: FutureWarning:\n",
      "\n",
      "Setting a random_state has no effect since shuffle is False. This will raise an error in 0.24. You should leave random_state to its default (None), or set shuffle=True.\n",
      "\n"
     ]
    },
    {
     "name": "stdout",
     "output_type": "stream",
     "text": [
      "Test kappa:- 0.4495743759919203\n",
      "Test kappa:- 0.848646146725295\n",
      "Test kappa:- 0.6659643746408734\n",
      "1 0.01 10 100\n"
     ]
    },
    {
     "name": "stderr",
     "output_type": "stream",
     "text": [
      "C:\\Users\\SARANSH\\Anaconda3\\envs\\saransh\\lib\\site-packages\\sklearn\\model_selection\\_split.py:296: FutureWarning:\n",
      "\n",
      "Setting a random_state has no effect since shuffle is False. This will raise an error in 0.24. You should leave random_state to its default (None), or set shuffle=True.\n",
      "\n"
     ]
    },
    {
     "name": "stdout",
     "output_type": "stream",
     "text": [
      "Test kappa:- 0.4495743759919203\n",
      "Test kappa:- 0.848646146725295\n",
      "Test kappa:- 0.6659643746408734\n",
      "1 0.01 36.52324418313721 100\n"
     ]
    },
    {
     "name": "stderr",
     "output_type": "stream",
     "text": [
      "C:\\Users\\SARANSH\\Anaconda3\\envs\\saransh\\lib\\site-packages\\sklearn\\model_selection\\_split.py:296: FutureWarning:\n",
      "\n",
      "Setting a random_state has no effect since shuffle is False. This will raise an error in 0.24. You should leave random_state to its default (None), or set shuffle=True.\n",
      "\n"
     ]
    },
    {
     "name": "stdout",
     "output_type": "stream",
     "text": [
      "Test kappa:- 0.4495743759919203\n",
      "Test kappa:- 0.848646146725295\n",
      "Test kappa:- 0.6659643746408734\n",
      "1 0.01 129.2267656476402 10\n"
     ]
    },
    {
     "name": "stderr",
     "output_type": "stream",
     "text": [
      "C:\\Users\\SARANSH\\Anaconda3\\envs\\saransh\\lib\\site-packages\\sklearn\\model_selection\\_split.py:296: FutureWarning:\n",
      "\n",
      "Setting a random_state has no effect since shuffle is False. This will raise an error in 0.24. You should leave random_state to its default (None), or set shuffle=True.\n",
      "\n"
     ]
    },
    {
     "name": "stdout",
     "output_type": "stream",
     "text": [
      "Test kappa:- 0.4495743759919203\n",
      "Test kappa:- 0.848646146725295\n",
      "Test kappa:- 0.6659643746408734\n",
      "1 0.01 228.38180921758556 10\n"
     ]
    },
    {
     "name": "stderr",
     "output_type": "stream",
     "text": [
      "C:\\Users\\SARANSH\\Anaconda3\\envs\\saransh\\lib\\site-packages\\sklearn\\model_selection\\_split.py:296: FutureWarning:\n",
      "\n",
      "Setting a random_state has no effect since shuffle is False. This will raise an error in 0.24. You should leave random_state to its default (None), or set shuffle=True.\n",
      "\n"
     ]
    },
    {
     "name": "stdout",
     "output_type": "stream",
     "text": [
      "Test kappa:- 0.4495743759919203\n",
      "Test kappa:- 0.848646146725295\n",
      "Test kappa:- 0.6659643746408734\n",
      "1 0.01 663.373447178662 10\n"
     ]
    },
    {
     "name": "stderr",
     "output_type": "stream",
     "text": [
      "C:\\Users\\SARANSH\\Anaconda3\\envs\\saransh\\lib\\site-packages\\sklearn\\model_selection\\_split.py:296: FutureWarning:\n",
      "\n",
      "Setting a random_state has no effect since shuffle is False. This will raise an error in 0.24. You should leave random_state to its default (None), or set shuffle=True.\n",
      "\n"
     ]
    },
    {
     "name": "stdout",
     "output_type": "stream",
     "text": [
      "Test kappa:- 0.4495743759919203\n",
      "Test kappa:- 0.848646146725295\n",
      "Test kappa:- 0.6659643746408734\n",
      "1 0.01 13.803174709163045 31.086976175149985\n"
     ]
    },
    {
     "name": "stderr",
     "output_type": "stream",
     "text": [
      "C:\\Users\\SARANSH\\Anaconda3\\envs\\saransh\\lib\\site-packages\\sklearn\\model_selection\\_split.py:296: FutureWarning:\n",
      "\n",
      "Setting a random_state has no effect since shuffle is False. This will raise an error in 0.24. You should leave random_state to its default (None), or set shuffle=True.\n",
      "\n"
     ]
    },
    {
     "name": "stdout",
     "output_type": "stream",
     "text": [
      "Test kappa:- 0.4495743759919203\n",
      "Test kappa:- 0.848646146725295\n",
      "Test kappa:- 0.6659643746408734\n",
      "1 0.01 10 37.41804274916748\n"
     ]
    },
    {
     "name": "stderr",
     "output_type": "stream",
     "text": [
      "C:\\Users\\SARANSH\\Anaconda3\\envs\\saransh\\lib\\site-packages\\sklearn\\model_selection\\_split.py:296: FutureWarning:\n",
      "\n",
      "Setting a random_state has no effect since shuffle is False. This will raise an error in 0.24. You should leave random_state to its default (None), or set shuffle=True.\n",
      "\n"
     ]
    },
    {
     "name": "stdout",
     "output_type": "stream",
     "text": [
      "Test kappa:- 0.4495743759919203\n",
      "Test kappa:- 0.848646146725295\n",
      "Test kappa:- 0.6659643746408734\n",
      "1 0.01 10 100\n"
     ]
    },
    {
     "name": "stderr",
     "output_type": "stream",
     "text": [
      "C:\\Users\\SARANSH\\Anaconda3\\envs\\saransh\\lib\\site-packages\\sklearn\\model_selection\\_split.py:296: FutureWarning:\n",
      "\n",
      "Setting a random_state has no effect since shuffle is False. This will raise an error in 0.24. You should leave random_state to its default (None), or set shuffle=True.\n",
      "\n"
     ]
    },
    {
     "name": "stdout",
     "output_type": "stream",
     "text": [
      "Test kappa:- 0.4495743759919203\n",
      "Test kappa:- 0.848646146725295\n",
      "Test kappa:- 0.6659643746408734\n",
      "1 0.01 44.430644405008806 32.79483788323523\n"
     ]
    },
    {
     "name": "stderr",
     "output_type": "stream",
     "text": [
      "C:\\Users\\SARANSH\\Anaconda3\\envs\\saransh\\lib\\site-packages\\sklearn\\model_selection\\_split.py:296: FutureWarning:\n",
      "\n",
      "Setting a random_state has no effect since shuffle is False. This will raise an error in 0.24. You should leave random_state to its default (None), or set shuffle=True.\n",
      "\n"
     ]
    },
    {
     "name": "stdout",
     "output_type": "stream",
     "text": [
      "Test kappa:- 0.4495743759919203\n",
      "Test kappa:- 0.848646146725295\n",
      "Test kappa:- 0.6659643746408734\n",
      "1 0.01 152.84606546403717 33.11430465736929\n"
     ]
    },
    {
     "name": "stderr",
     "output_type": "stream",
     "text": [
      "C:\\Users\\SARANSH\\Anaconda3\\envs\\saransh\\lib\\site-packages\\sklearn\\model_selection\\_split.py:296: FutureWarning:\n",
      "\n",
      "Setting a random_state has no effect since shuffle is False. This will raise an error in 0.24. You should leave random_state to its default (None), or set shuffle=True.\n",
      "\n"
     ]
    },
    {
     "name": "stdout",
     "output_type": "stream",
     "text": [
      "Test kappa:- 0.4495743759919203\n",
      "Test kappa:- 0.848646146725295\n",
      "Test kappa:- 0.6659643746408734\n",
      "1 0.01 357.3584004759847 10\n"
     ]
    },
    {
     "name": "stderr",
     "output_type": "stream",
     "text": [
      "C:\\Users\\SARANSH\\Anaconda3\\envs\\saransh\\lib\\site-packages\\sklearn\\model_selection\\_split.py:296: FutureWarning:\n",
      "\n",
      "Setting a random_state has no effect since shuffle is False. This will raise an error in 0.24. You should leave random_state to its default (None), or set shuffle=True.\n",
      "\n"
     ]
    },
    {
     "name": "stdout",
     "output_type": "stream",
     "text": [
      "Test kappa:- 0.4495743759919203\n",
      "Test kappa:- 0.848646146725295\n",
      "Test kappa:- 0.6659643746408734\n",
      "1 0.01 452.49437712317825 18.60349638057945\n"
     ]
    },
    {
     "name": "stderr",
     "output_type": "stream",
     "text": [
      "C:\\Users\\SARANSH\\Anaconda3\\envs\\saransh\\lib\\site-packages\\sklearn\\model_selection\\_split.py:296: FutureWarning:\n",
      "\n",
      "Setting a random_state has no effect since shuffle is False. This will raise an error in 0.24. You should leave random_state to its default (None), or set shuffle=True.\n",
      "\n"
     ]
    },
    {
     "name": "stdout",
     "output_type": "stream",
     "text": [
      "Test kappa:- 0.4495743759919203\n",
      "Test kappa:- 0.848646146725295\n",
      "Test kappa:- 0.6659643746408734\n",
      "1 0.01 10 23.386897964354645\n"
     ]
    },
    {
     "name": "stderr",
     "output_type": "stream",
     "text": [
      "C:\\Users\\SARANSH\\Anaconda3\\envs\\saransh\\lib\\site-packages\\sklearn\\model_selection\\_split.py:296: FutureWarning:\n",
      "\n",
      "Setting a random_state has no effect since shuffle is False. This will raise an error in 0.24. You should leave random_state to its default (None), or set shuffle=True.\n",
      "\n"
     ]
    },
    {
     "name": "stdout",
     "output_type": "stream",
     "text": [
      "Test kappa:- 0.4495743759919203\n",
      "Test kappa:- 0.848646146725295\n",
      "Test kappa:- 0.6659643746408734\n",
      "1 0.01 10 100\n"
     ]
    },
    {
     "name": "stderr",
     "output_type": "stream",
     "text": [
      "C:\\Users\\SARANSH\\Anaconda3\\envs\\saransh\\lib\\site-packages\\sklearn\\model_selection\\_split.py:296: FutureWarning:\n",
      "\n",
      "Setting a random_state has no effect since shuffle is False. This will raise an error in 0.24. You should leave random_state to its default (None), or set shuffle=True.\n",
      "\n"
     ]
    },
    {
     "name": "stdout",
     "output_type": "stream",
     "text": [
      "Test kappa:- 0.4495743759919203\n",
      "Test kappa:- 0.848646146725295\n",
      "Test kappa:- 0.6659643746408734\n",
      "1 0.01 225.312789193374 100\n"
     ]
    },
    {
     "name": "stderr",
     "output_type": "stream",
     "text": [
      "C:\\Users\\SARANSH\\Anaconda3\\envs\\saransh\\lib\\site-packages\\sklearn\\model_selection\\_split.py:296: FutureWarning:\n",
      "\n",
      "Setting a random_state has no effect since shuffle is False. This will raise an error in 0.24. You should leave random_state to its default (None), or set shuffle=True.\n",
      "\n"
     ]
    },
    {
     "name": "stdout",
     "output_type": "stream",
     "text": [
      "Test kappa:- 0.4495743759919203\n",
      "Test kappa:- 0.848646146725295\n",
      "Test kappa:- 0.6659643746408734\n",
      "1 0.01 380.40282057929204 84.4407774896064\n"
     ]
    },
    {
     "name": "stderr",
     "output_type": "stream",
     "text": [
      "C:\\Users\\SARANSH\\Anaconda3\\envs\\saransh\\lib\\site-packages\\sklearn\\model_selection\\_split.py:296: FutureWarning:\n",
      "\n",
      "Setting a random_state has no effect since shuffle is False. This will raise an error in 0.24. You should leave random_state to its default (None), or set shuffle=True.\n",
      "\n"
     ]
    },
    {
     "name": "stdout",
     "output_type": "stream",
     "text": [
      "Test kappa:- 0.4495743759919203\n",
      "Test kappa:- 0.848646146725295\n",
      "Test kappa:- 0.6659643746408734\n",
      "1 0.01 571.0842785859045 10\n"
     ]
    },
    {
     "name": "stderr",
     "output_type": "stream",
     "text": [
      "C:\\Users\\SARANSH\\Anaconda3\\envs\\saransh\\lib\\site-packages\\sklearn\\model_selection\\_split.py:296: FutureWarning:\n",
      "\n",
      "Setting a random_state has no effect since shuffle is False. This will raise an error in 0.24. You should leave random_state to its default (None), or set shuffle=True.\n",
      "\n"
     ]
    },
    {
     "name": "stdout",
     "output_type": "stream",
     "text": [
      "Test kappa:- 0.4495743759919203\n",
      "Test kappa:- 0.848646146725295\n",
      "Test kappa:- 0.6659643746408734\n",
      "1 0.01 10 10\n"
     ]
    },
    {
     "name": "stderr",
     "output_type": "stream",
     "text": [
      "C:\\Users\\SARANSH\\Anaconda3\\envs\\saransh\\lib\\site-packages\\sklearn\\model_selection\\_split.py:296: FutureWarning:\n",
      "\n",
      "Setting a random_state has no effect since shuffle is False. This will raise an error in 0.24. You should leave random_state to its default (None), or set shuffle=True.\n",
      "\n"
     ]
    },
    {
     "name": "stdout",
     "output_type": "stream",
     "text": [
      "Test kappa:- 0.4495743759919203\n",
      "Test kappa:- 0.848646146725295\n",
      "Test kappa:- 0.6659643746408734\n",
      "1 0.01 10 10\n"
     ]
    },
    {
     "name": "stderr",
     "output_type": "stream",
     "text": [
      "C:\\Users\\SARANSH\\Anaconda3\\envs\\saransh\\lib\\site-packages\\sklearn\\model_selection\\_split.py:296: FutureWarning:\n",
      "\n",
      "Setting a random_state has no effect since shuffle is False. This will raise an error in 0.24. You should leave random_state to its default (None), or set shuffle=True.\n",
      "\n"
     ]
    },
    {
     "name": "stdout",
     "output_type": "stream",
     "text": [
      "Test kappa:- 0.4495743759919203\n",
      "Test kappa:- 0.848646146725295\n",
      "Test kappa:- 0.6659643746408734\n",
      "1 0.01 10 100\n"
     ]
    },
    {
     "name": "stderr",
     "output_type": "stream",
     "text": [
      "C:\\Users\\SARANSH\\Anaconda3\\envs\\saransh\\lib\\site-packages\\sklearn\\model_selection\\_split.py:296: FutureWarning:\n",
      "\n",
      "Setting a random_state has no effect since shuffle is False. This will raise an error in 0.24. You should leave random_state to its default (None), or set shuffle=True.\n",
      "\n"
     ]
    },
    {
     "name": "stdout",
     "output_type": "stream",
     "text": [
      "Test kappa:- 0.4495743759919203\n",
      "Test kappa:- 0.848646146725295\n",
      "Test kappa:- 0.6659643746408734\n",
      "1 0.01 440.27516416823994 43.772766039151605\n"
     ]
    },
    {
     "name": "stderr",
     "output_type": "stream",
     "text": [
      "C:\\Users\\SARANSH\\Anaconda3\\envs\\saransh\\lib\\site-packages\\sklearn\\model_selection\\_split.py:296: FutureWarning:\n",
      "\n",
      "Setting a random_state has no effect since shuffle is False. This will raise an error in 0.24. You should leave random_state to its default (None), or set shuffle=True.\n",
      "\n"
     ]
    },
    {
     "name": "stdout",
     "output_type": "stream",
     "text": [
      "Test kappa:- 0.4495743759919203\n",
      "Test kappa:- 0.848646146725295\n",
      "Test kappa:- 0.6659643746408734\n",
      "1 0.01 58.54612372739925 15.960898755800109\n"
     ]
    },
    {
     "name": "stderr",
     "output_type": "stream",
     "text": [
      "C:\\Users\\SARANSH\\Anaconda3\\envs\\saransh\\lib\\site-packages\\sklearn\\model_selection\\_split.py:296: FutureWarning:\n",
      "\n",
      "Setting a random_state has no effect since shuffle is False. This will raise an error in 0.24. You should leave random_state to its default (None), or set shuffle=True.\n",
      "\n"
     ]
    },
    {
     "name": "stdout",
     "output_type": "stream",
     "text": [
      "Test kappa:- 0.4495743759919203\n",
      "Test kappa:- 0.848646146725295\n",
      "Test kappa:- 0.6659643746408734\n",
      "1.0 0.01 513.9892343450697 38.72366763469969\n"
     ]
    },
    {
     "name": "stderr",
     "output_type": "stream",
     "text": [
      "C:\\Users\\SARANSH\\Anaconda3\\envs\\saransh\\lib\\site-packages\\sklearn\\model_selection\\_split.py:296: FutureWarning:\n",
      "\n",
      "Setting a random_state has no effect since shuffle is False. This will raise an error in 0.24. You should leave random_state to its default (None), or set shuffle=True.\n",
      "\n"
     ]
    },
    {
     "name": "stdout",
     "output_type": "stream",
     "text": [
      "Test kappa:- 0.4495743759919203\n",
      "Test kappa:- 0.848646146725295\n",
      "Test kappa:- 0.6659643746408734\n",
      "1.0 0.01 10 44.88405925760609\n"
     ]
    },
    {
     "name": "stderr",
     "output_type": "stream",
     "text": [
      "C:\\Users\\SARANSH\\Anaconda3\\envs\\saransh\\lib\\site-packages\\sklearn\\model_selection\\_split.py:296: FutureWarning:\n",
      "\n",
      "Setting a random_state has no effect since shuffle is False. This will raise an error in 0.24. You should leave random_state to its default (None), or set shuffle=True.\n",
      "\n"
     ]
    },
    {
     "name": "stdout",
     "output_type": "stream",
     "text": [
      "Test kappa:- 0.4495743759919203\n",
      "Test kappa:- 0.848646146725295\n",
      "Test kappa:- 0.6659643746408734\n",
      "1 0.01 415.98089136591284 100\n"
     ]
    },
    {
     "name": "stderr",
     "output_type": "stream",
     "text": [
      "C:\\Users\\SARANSH\\Anaconda3\\envs\\saransh\\lib\\site-packages\\sklearn\\model_selection\\_split.py:296: FutureWarning:\n",
      "\n",
      "Setting a random_state has no effect since shuffle is False. This will raise an error in 0.24. You should leave random_state to its default (None), or set shuffle=True.\n",
      "\n"
     ]
    },
    {
     "name": "stdout",
     "output_type": "stream",
     "text": [
      "Test kappa:- 0.4495743759919203\n",
      "Test kappa:- 0.848646146725295\n",
      "Test kappa:- 0.6659643746408734\n",
      "1.0 0.01 10 10\n"
     ]
    },
    {
     "name": "stderr",
     "output_type": "stream",
     "text": [
      "C:\\Users\\SARANSH\\Anaconda3\\envs\\saransh\\lib\\site-packages\\sklearn\\model_selection\\_split.py:296: FutureWarning:\n",
      "\n",
      "Setting a random_state has no effect since shuffle is False. This will raise an error in 0.24. You should leave random_state to its default (None), or set shuffle=True.\n",
      "\n"
     ]
    },
    {
     "name": "stdout",
     "output_type": "stream",
     "text": [
      "Test kappa:- 0.4495743759919203\n",
      "Test kappa:- 0.848646146725295\n",
      "Test kappa:- 0.6659643746408734\n",
      "1.0 0.01 209.44951781777917 23.402979804488684\n"
     ]
    },
    {
     "name": "stderr",
     "output_type": "stream",
     "text": [
      "C:\\Users\\SARANSH\\Anaconda3\\envs\\saransh\\lib\\site-packages\\sklearn\\model_selection\\_split.py:296: FutureWarning:\n",
      "\n",
      "Setting a random_state has no effect since shuffle is False. This will raise an error in 0.24. You should leave random_state to its default (None), or set shuffle=True.\n",
      "\n"
     ]
    },
    {
     "name": "stdout",
     "output_type": "stream",
     "text": [
      "Test kappa:- 0.4495743759919203\n",
      "Test kappa:- 0.848646146725295\n",
      "Test kappa:- 0.6659643746408734\n",
      "1.0 0.01 10 33.157075592716524\n"
     ]
    },
    {
     "name": "stderr",
     "output_type": "stream",
     "text": [
      "C:\\Users\\SARANSH\\Anaconda3\\envs\\saransh\\lib\\site-packages\\sklearn\\model_selection\\_split.py:296: FutureWarning:\n",
      "\n",
      "Setting a random_state has no effect since shuffle is False. This will raise an error in 0.24. You should leave random_state to its default (None), or set shuffle=True.\n",
      "\n"
     ]
    },
    {
     "name": "stdout",
     "output_type": "stream",
     "text": [
      "Test kappa:- 0.4495743759919203\n",
      "Test kappa:- 0.848646146725295\n",
      "Test kappa:- 0.6659643746408734\n",
      "1.0 0.01 158.9584771412651 100\n"
     ]
    },
    {
     "name": "stderr",
     "output_type": "stream",
     "text": [
      "C:\\Users\\SARANSH\\Anaconda3\\envs\\saransh\\lib\\site-packages\\sklearn\\model_selection\\_split.py:296: FutureWarning:\n",
      "\n",
      "Setting a random_state has no effect since shuffle is False. This will raise an error in 0.24. You should leave random_state to its default (None), or set shuffle=True.\n",
      "\n"
     ]
    },
    {
     "name": "stdout",
     "output_type": "stream",
     "text": [
      "Test kappa:- 0.4495743759919203\n",
      "Test kappa:- 0.848646146725295\n",
      "Test kappa:- 0.6659643746408734\n",
      "1.0 0.01 10 52.6665212390141\n"
     ]
    },
    {
     "name": "stderr",
     "output_type": "stream",
     "text": [
      "C:\\Users\\SARANSH\\Anaconda3\\envs\\saransh\\lib\\site-packages\\sklearn\\model_selection\\_split.py:296: FutureWarning:\n",
      "\n",
      "Setting a random_state has no effect since shuffle is False. This will raise an error in 0.24. You should leave random_state to its default (None), or set shuffle=True.\n",
      "\n"
     ]
    },
    {
     "name": "stdout",
     "output_type": "stream",
     "text": [
      "Test kappa:- 0.4495743759919203\n",
      "Test kappa:- 0.848646146725295\n",
      "Test kappa:- 0.6659643746408734\n",
      "1.0 0.01 311.06027427585724 15.496831136271446\n"
     ]
    },
    {
     "name": "stderr",
     "output_type": "stream",
     "text": [
      "C:\\Users\\SARANSH\\Anaconda3\\envs\\saransh\\lib\\site-packages\\sklearn\\model_selection\\_split.py:296: FutureWarning:\n",
      "\n",
      "Setting a random_state has no effect since shuffle is False. This will raise an error in 0.24. You should leave random_state to its default (None), or set shuffle=True.\n",
      "\n"
     ]
    },
    {
     "name": "stdout",
     "output_type": "stream",
     "text": [
      "Test kappa:- 0.4495743759919203\n",
      "Test kappa:- 0.848646146725295\n",
      "Test kappa:- 0.6659643746408734\n",
      "1.0 0.01 10 10\n"
     ]
    },
    {
     "name": "stderr",
     "output_type": "stream",
     "text": [
      "C:\\Users\\SARANSH\\Anaconda3\\envs\\saransh\\lib\\site-packages\\sklearn\\model_selection\\_split.py:296: FutureWarning:\n",
      "\n",
      "Setting a random_state has no effect since shuffle is False. This will raise an error in 0.24. You should leave random_state to its default (None), or set shuffle=True.\n",
      "\n"
     ]
    },
    {
     "name": "stdout",
     "output_type": "stream",
     "text": [
      "Test kappa:- 0.4495743759919203\n",
      "Test kappa:- 0.848646146725295\n",
      "Test kappa:- 0.6659643746408734\n",
      "1.0 0.01 302.1219066883966 10\n"
     ]
    },
    {
     "name": "stderr",
     "output_type": "stream",
     "text": [
      "C:\\Users\\SARANSH\\Anaconda3\\envs\\saransh\\lib\\site-packages\\sklearn\\model_selection\\_split.py:296: FutureWarning:\n",
      "\n",
      "Setting a random_state has no effect since shuffle is False. This will raise an error in 0.24. You should leave random_state to its default (None), or set shuffle=True.\n",
      "\n"
     ]
    },
    {
     "name": "stdout",
     "output_type": "stream",
     "text": [
      "Test kappa:- 0.4495743759919203\n",
      "Test kappa:- 0.848646146725295\n",
      "Test kappa:- 0.6659643746408734\n",
      "1.0 0.01 10 100\n"
     ]
    },
    {
     "name": "stderr",
     "output_type": "stream",
     "text": [
      "C:\\Users\\SARANSH\\Anaconda3\\envs\\saransh\\lib\\site-packages\\sklearn\\model_selection\\_split.py:296: FutureWarning:\n",
      "\n",
      "Setting a random_state has no effect since shuffle is False. This will raise an error in 0.24. You should leave random_state to its default (None), or set shuffle=True.\n",
      "\n"
     ]
    },
    {
     "name": "stdout",
     "output_type": "stream",
     "text": [
      "Test kappa:- 0.4495743759919203\n",
      "Test kappa:- 0.848646146725295\n",
      "Test kappa:- 0.6659643746408734\n",
      "1.0 0.01 277.630776345103 100\n"
     ]
    },
    {
     "name": "stderr",
     "output_type": "stream",
     "text": [
      "C:\\Users\\SARANSH\\Anaconda3\\envs\\saransh\\lib\\site-packages\\sklearn\\model_selection\\_split.py:296: FutureWarning:\n",
      "\n",
      "Setting a random_state has no effect since shuffle is False. This will raise an error in 0.24. You should leave random_state to its default (None), or set shuffle=True.\n",
      "\n"
     ]
    },
    {
     "name": "stdout",
     "output_type": "stream",
     "text": [
      "Test kappa:- 0.4495743759919203\n",
      "Test kappa:- 0.848646146725295\n",
      "Test kappa:- 0.6659643746408734\n",
      "1.0 0.01 10 42.42019227559156\n"
     ]
    },
    {
     "name": "stderr",
     "output_type": "stream",
     "text": [
      "C:\\Users\\SARANSH\\Anaconda3\\envs\\saransh\\lib\\site-packages\\sklearn\\model_selection\\_split.py:296: FutureWarning:\n",
      "\n",
      "Setting a random_state has no effect since shuffle is False. This will raise an error in 0.24. You should leave random_state to its default (None), or set shuffle=True.\n",
      "\n"
     ]
    },
    {
     "name": "stdout",
     "output_type": "stream",
     "text": [
      "Test kappa:- 0.4495743759919203\n",
      "Test kappa:- 0.848646146725295\n",
      "Test kappa:- 0.6659643746408734\n",
      "1.0 0.01 800.3460023132311 10\n"
     ]
    },
    {
     "name": "stderr",
     "output_type": "stream",
     "text": [
      "C:\\Users\\SARANSH\\Anaconda3\\envs\\saransh\\lib\\site-packages\\sklearn\\model_selection\\_split.py:296: FutureWarning:\n",
      "\n",
      "Setting a random_state has no effect since shuffle is False. This will raise an error in 0.24. You should leave random_state to its default (None), or set shuffle=True.\n",
      "\n"
     ]
    },
    {
     "name": "stdout",
     "output_type": "stream",
     "text": [
      "Test kappa:- 0.4495743759919203\n",
      "Test kappa:- 0.848646146725295\n",
      "Test kappa:- 0.6659643746408734\n",
      "1.0 0.01 10 10\n"
     ]
    },
    {
     "name": "stderr",
     "output_type": "stream",
     "text": [
      "C:\\Users\\SARANSH\\Anaconda3\\envs\\saransh\\lib\\site-packages\\sklearn\\model_selection\\_split.py:296: FutureWarning:\n",
      "\n",
      "Setting a random_state has no effect since shuffle is False. This will raise an error in 0.24. You should leave random_state to its default (None), or set shuffle=True.\n",
      "\n"
     ]
    },
    {
     "name": "stdout",
     "output_type": "stream",
     "text": [
      "Test kappa:- 0.4495743759919203\n",
      "Test kappa:- 0.848646146725295\n",
      "Test kappa:- 0.6659643746408734\n",
      "1.0 0.01 85.96565650973564 10\n"
     ]
    },
    {
     "name": "stderr",
     "output_type": "stream",
     "text": [
      "C:\\Users\\SARANSH\\Anaconda3\\envs\\saransh\\lib\\site-packages\\sklearn\\model_selection\\_split.py:296: FutureWarning:\n",
      "\n",
      "Setting a random_state has no effect since shuffle is False. This will raise an error in 0.24. You should leave random_state to its default (None), or set shuffle=True.\n",
      "\n"
     ]
    },
    {
     "name": "stdout",
     "output_type": "stream",
     "text": [
      "Test kappa:- 0.4495743759919203\n",
      "Test kappa:- 0.848646146725295\n",
      "Test kappa:- 0.6659643746408734\n",
      "1.0 0.01 10 44.48683158667801\n"
     ]
    },
    {
     "name": "stderr",
     "output_type": "stream",
     "text": [
      "C:\\Users\\SARANSH\\Anaconda3\\envs\\saransh\\lib\\site-packages\\sklearn\\model_selection\\_split.py:296: FutureWarning:\n",
      "\n",
      "Setting a random_state has no effect since shuffle is False. This will raise an error in 0.24. You should leave random_state to its default (None), or set shuffle=True.\n",
      "\n"
     ]
    },
    {
     "name": "stdout",
     "output_type": "stream",
     "text": [
      "Test kappa:- 0.4495743759919203\n",
      "Test kappa:- 0.848646146725295\n",
      "Test kappa:- 0.6659643746408734\n",
      "1.0 0.01 440.51131228357974 90.4346810535077\n"
     ]
    },
    {
     "name": "stderr",
     "output_type": "stream",
     "text": [
      "C:\\Users\\SARANSH\\Anaconda3\\envs\\saransh\\lib\\site-packages\\sklearn\\model_selection\\_split.py:296: FutureWarning:\n",
      "\n",
      "Setting a random_state has no effect since shuffle is False. This will raise an error in 0.24. You should leave random_state to its default (None), or set shuffle=True.\n",
      "\n"
     ]
    },
    {
     "name": "stdout",
     "output_type": "stream",
     "text": [
      "Test kappa:- 0.4495743759919203\n",
      "Test kappa:- 0.848646146725295\n",
      "Test kappa:- 0.6659643746408734\n",
      "1.0 0.01 173.72796244980975 96.8762495827543\n"
     ]
    },
    {
     "name": "stderr",
     "output_type": "stream",
     "text": [
      "C:\\Users\\SARANSH\\Anaconda3\\envs\\saransh\\lib\\site-packages\\sklearn\\model_selection\\_split.py:296: FutureWarning:\n",
      "\n",
      "Setting a random_state has no effect since shuffle is False. This will raise an error in 0.24. You should leave random_state to its default (None), or set shuffle=True.\n",
      "\n"
     ]
    },
    {
     "name": "stdout",
     "output_type": "stream",
     "text": [
      "Test kappa:- 0.4495743759919203\n",
      "Test kappa:- 0.848646146725295\n",
      "Test kappa:- 0.6659643746408734\n",
      "1.0 0.01 523.6267221339203 40.49607431315517\n"
     ]
    },
    {
     "name": "stderr",
     "output_type": "stream",
     "text": [
      "C:\\Users\\SARANSH\\Anaconda3\\envs\\saransh\\lib\\site-packages\\sklearn\\model_selection\\_split.py:296: FutureWarning:\n",
      "\n",
      "Setting a random_state has no effect since shuffle is False. This will raise an error in 0.24. You should leave random_state to its default (None), or set shuffle=True.\n",
      "\n"
     ]
    },
    {
     "name": "stdout",
     "output_type": "stream",
     "text": [
      "Test kappa:- 0.4495743759919203\n",
      "Test kappa:- 0.848646146725295\n",
      "Test kappa:- 0.6659643746408734\n",
      "1.0 0.01 10 10\n"
     ]
    },
    {
     "name": "stderr",
     "output_type": "stream",
     "text": [
      "C:\\Users\\SARANSH\\Anaconda3\\envs\\saransh\\lib\\site-packages\\sklearn\\model_selection\\_split.py:296: FutureWarning:\n",
      "\n",
      "Setting a random_state has no effect since shuffle is False. This will raise an error in 0.24. You should leave random_state to its default (None), or set shuffle=True.\n",
      "\n"
     ]
    },
    {
     "name": "stdout",
     "output_type": "stream",
     "text": [
      "Test kappa:- 0.4495743759919203\n",
      "Test kappa:- 0.848646146725295\n",
      "Test kappa:- 0.6659643746408734\n",
      "1.0 0.01 10 10\n"
     ]
    },
    {
     "name": "stderr",
     "output_type": "stream",
     "text": [
      "C:\\Users\\SARANSH\\Anaconda3\\envs\\saransh\\lib\\site-packages\\sklearn\\model_selection\\_split.py:296: FutureWarning:\n",
      "\n",
      "Setting a random_state has no effect since shuffle is False. This will raise an error in 0.24. You should leave random_state to its default (None), or set shuffle=True.\n",
      "\n"
     ]
    },
    {
     "name": "stdout",
     "output_type": "stream",
     "text": [
      "Test kappa:- 0.4495743759919203\n",
      "Test kappa:- 0.848646146725295\n",
      "Test kappa:- 0.6659643746408734\n",
      "1.0 0.01 10 10\n"
     ]
    },
    {
     "name": "stderr",
     "output_type": "stream",
     "text": [
      "C:\\Users\\SARANSH\\Anaconda3\\envs\\saransh\\lib\\site-packages\\sklearn\\model_selection\\_split.py:296: FutureWarning:\n",
      "\n",
      "Setting a random_state has no effect since shuffle is False. This will raise an error in 0.24. You should leave random_state to its default (None), or set shuffle=True.\n",
      "\n"
     ]
    },
    {
     "name": "stdout",
     "output_type": "stream",
     "text": [
      "Test kappa:- 0.4495743759919203\n",
      "Test kappa:- 0.848646146725295\n",
      "Test kappa:- 0.6659643746408734\n",
      "1.0 0.01 108.3933882685892 100\n"
     ]
    },
    {
     "name": "stderr",
     "output_type": "stream",
     "text": [
      "C:\\Users\\SARANSH\\Anaconda3\\envs\\saransh\\lib\\site-packages\\sklearn\\model_selection\\_split.py:296: FutureWarning:\n",
      "\n",
      "Setting a random_state has no effect since shuffle is False. This will raise an error in 0.24. You should leave random_state to its default (None), or set shuffle=True.\n",
      "\n"
     ]
    },
    {
     "name": "stdout",
     "output_type": "stream",
     "text": [
      "Test kappa:- 0.4495743759919203\n",
      "Test kappa:- 0.848646146725295\n",
      "Test kappa:- 0.6659643746408734\n",
      "1.0 0.01 32.703673946692874 100\n"
     ]
    },
    {
     "name": "stderr",
     "output_type": "stream",
     "text": [
      "C:\\Users\\SARANSH\\Anaconda3\\envs\\saransh\\lib\\site-packages\\sklearn\\model_selection\\_split.py:296: FutureWarning:\n",
      "\n",
      "Setting a random_state has no effect since shuffle is False. This will raise an error in 0.24. You should leave random_state to its default (None), or set shuffle=True.\n",
      "\n"
     ]
    },
    {
     "name": "stdout",
     "output_type": "stream",
     "text": [
      "Test kappa:- 0.4495743759919203\n",
      "Test kappa:- 0.848646146725295\n",
      "Test kappa:- 0.6659643746408734\n",
      "FINAL:\n",
      "[1, 0.01, 100.64381620614017, 30.86308427154196]\n",
      "0.33403562535912656\n"
     ]
    },
    {
     "data": {
      "text/plain": [
       "<__main__.PSO at 0x2b931fcffd0>"
      ]
     },
     "execution_count": 2,
     "metadata": {},
     "output_type": "execute_result"
    }
   ],
   "source": [
    "from __future__ import division\n",
    "import random\n",
    "import math\n",
    "\n",
    "#--- COST FUNCTION \n",
    "# function we are attempting to optimize (minimize)\n",
    "def func1(x0,x,y,x_testt,y_testt):\n",
    "    from sklearn import linear_model\n",
    "    #clf = RandomForestRegressor(params)\n",
    "\n",
    "    clf = linear_model.LogisticRegression(C=x0[0],penalty='l1', solver='liblinear',\n",
    "                                          tol=x0[1], max_iter=x0[2],\n",
    "                                          warm_start=True,\n",
    "                                          intercept_scaling=x0[3],random_state = 2)\n",
    "    #from pprint import pprint\n",
    "    # Look at parameters used by our current forest\n",
    "    #print('Parameters currently in use:\\n')\n",
    "    #pprint(rf.get_params())\n",
    "#     print(clf)\n",
    "    from sklearn.metrics import roc_auc_score\n",
    "    from sklearn.model_selection import StratifiedKFold\n",
    "#     model = clf.fit(x,y)\n",
    "#     y_pred = model.predict(x_testt)\n",
    "    print(x0[0], x0[1],x0[2], x0[3])\n",
    "#     print('validation kappa:-',cohen_kappa_score(y_pred, y_testt))\n",
    "    \n",
    "#     a_train = model.predict(x)\n",
    "#     a_test = model.predict(X_test)\n",
    "    \n",
    "    \n",
    "    skf = StratifiedKFold(n_splits=3, random_state=42)\n",
    "    # X is the feature set and y is the target\n",
    "    fold = 1\n",
    "    for train_index, val_index in skf.split(x,y): \n",
    "        #print(\"Train:\", train_index, \"Validation:\", val_index) \n",
    "        X_train, X_test = x[train_index], x[val_index] \n",
    "        Y_train, Y_test = y[train_index], y[val_index]\n",
    "        model = clf.fit(X_train,Y_train)\n",
    "        a_train = model.predict(X_train)\n",
    "        a_test = model.predict(X_test)\n",
    "#         print('K-FOLD #',fold)\n",
    "        fold+=1\n",
    "#         print('Train AUC-ROC Score: ',roc_auc_score(a_train,Y_train),' Val AUC-ROC score: ',roc_auc_score(a_test,Y_test),'\\n')\n",
    "        from sklearn.metrics import cohen_kappa_score\n",
    "\n",
    "#         print('validation kappa:-',cohen_kappa_score(a_test, Y_test))\n",
    "        y_pred = model.predict(x_testt)\n",
    "        print('Test kappa:-',cohen_kappa_score(y_pred, y_testt))\n",
    "    \n",
    "    \n",
    "\n",
    "    return 1 - cohen_kappa_score(y_pred, y_testt)\n",
    "\n",
    "#<-------------------------------------->\n",
    "\n",
    "\n",
    "\n",
    "#--- MAIN \n",
    "class Particle:\n",
    "    def __init__(self,x0):\n",
    "        self.position_i=[]          # particle position\n",
    "        self.velocity_i=[]          # particle velocity\n",
    "        self.pos_best_i=[]          # best position individual\n",
    "        self.err_best_i=-1          # best error individual\n",
    "        self.err_i=-1               # error individual\n",
    "\n",
    "        for i in range(0,num_dimensions):\n",
    "            self.velocity_i.append(random.uniform(-1,1))\n",
    "            self.position_i.append(x0[i])\n",
    "\n",
    "    # evaluate current fitness\n",
    "    def evaluate(self,costFunc,x,y,x_testt,y_testt):\n",
    "        self.err_i=costFunc(self.position_i,x,y,x_testt,y_testt)\n",
    "\n",
    "        # check to see if the current position is an individual best\n",
    "        if self.err_i < self.err_best_i or self.err_best_i==-1:\n",
    "            self.pos_best_i=self.position_i\n",
    "            self.err_best_i=self.err_i\n",
    "\n",
    "    # update new particle velocity\n",
    "    def update_velocity(self,pos_best_g):\n",
    "        w=0.1       # constant inertia weight (how much to weigh the previous velocity)\n",
    "        c1=5       # cognative constant\n",
    "        c2=10        # social constant\n",
    "\n",
    "        for i in range(0,num_dimensions):\n",
    "            r1=random.random()\n",
    "            r2=random.random()\n",
    "\n",
    "            vel_cognitive=c1*r1*(self.pos_best_i[i]-self.position_i[i])\n",
    "            vel_social=c2*r2*(pos_best_g[i]-self.position_i[i])\n",
    "            self.velocity_i[i]=w*self.velocity_i[i]+vel_cognitive+vel_social\n",
    "\n",
    "    # update the particle position based off new velocity updates\n",
    "    def update_position(self,bounds):\n",
    "        for i in range(0,num_dimensions):\n",
    "            self.position_i[i]=self.position_i[i]+self.velocity_i[i]\n",
    "\n",
    "            # adjust maximum position if necessary\n",
    "            if self.position_i[i]>bounds[i][1]:\n",
    "                self.position_i[i]=bounds[i][1]\n",
    "\n",
    "            # adjust minimum position if neseccary\n",
    "            if self.position_i[i] < bounds[i][0]:\n",
    "                self.position_i[i]=bounds[i][0]\n",
    "                \n",
    "class PSO():\n",
    "    def __init__(self,costFunc,x,y,x_testt,y_testt,x0,bounds,num_particles,maxiter):\n",
    "        global num_dimensions\n",
    "        \n",
    "        num_dimensions=len(x0)\n",
    "        \n",
    "        err_best_g=-1                   # best error for group\n",
    "        pos_best_g=[]                   # best position for group\n",
    "\n",
    "        # establish the swarm\n",
    "        swarm=[]\n",
    "        for i in range(0,num_particles):\n",
    "            swarm.append(Particle(x0))\n",
    "            \n",
    "\n",
    "        # begin optimization loop\n",
    "        i=0\n",
    "        while i < maxiter:\n",
    "            #print i,err_best_g\n",
    "            # cycle through particles in swarm and evaluate fitness\n",
    "            for j in range(0,num_particles):\n",
    "#                 print('j')\n",
    "                swarm[j].evaluate(costFunc,x,y,x_testt,y_testt)\n",
    "                \n",
    "\n",
    "                # determine if current particle is the best (globally)\n",
    "                if swarm[j].err_i < err_best_g or err_best_g == -1:\n",
    "                    pos_best_g=list(swarm[j].position_i)\n",
    "                    err_best_g=float(swarm[j].err_i)\n",
    "\n",
    "            # cycle through swarm and update velocities and position\n",
    "            for j in range(0,num_particles):\n",
    "                swarm[j].update_velocity(pos_best_g)\n",
    "                swarm[j].update_position(bounds)\n",
    "            i+=1\n",
    "\n",
    "        # print final results\n",
    "        print ('FINAL:')\n",
    "        print (pos_best_g)\n",
    "        print (err_best_g)\n",
    "\n",
    "if __name__ == \"__PSO__\":\n",
    "    main()\n",
    "    \n",
    "\n",
    "initial=[0.1,0.1,100,23]               # initial starting location [x1,x2...]\n",
    "bounds=[(0.01,1),(0.01,1),(10,1000),(10,100)]  # input bounds [(x1_min,x1_max),(x2_min,x2_max)...]\n",
    "PSO(func1,x,y,x_testt,y_testt,initial,bounds,num_particles=3,maxiter=30)"
   ]
  },
  {
   "cell_type": "code",
   "execution_count": 3,
   "metadata": {},
   "outputs": [
    {
     "data": {
      "text/plain": [
       "LogisticRegression(C=0.01787708494254063, class_weight=None, dual=False,\n",
       "                   fit_intercept=True, intercept_scaling=23.036653198054267,\n",
       "                   l1_ratio=None, max_iter=100.01365326405414,\n",
       "                   multi_class='auto', n_jobs=None, penalty='l1',\n",
       "                   random_state=2, solver='liblinear', tol=0.03594300058548619,\n",
       "                   verbose=0, warm_start=True)"
      ]
     },
     "execution_count": 3,
     "metadata": {},
     "output_type": "execute_result"
    }
   ],
   "source": [
    "clf"
   ]
  }
 ],
 "metadata": {
  "kernelspec": {
   "display_name": "Python 3",
   "language": "python",
   "name": "python3"
  },
  "language_info": {
   "codemirror_mode": {
    "name": "ipython",
    "version": 3
   },
   "file_extension": ".py",
   "mimetype": "text/x-python",
   "name": "python",
   "nbconvert_exporter": "python",
   "pygments_lexer": "ipython3",
   "version": "3.7.1"
  }
 },
 "nbformat": 4,
 "nbformat_minor": 4
}
